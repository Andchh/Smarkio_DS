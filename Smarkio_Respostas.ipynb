{
  "nbformat": 4,
  "nbformat_minor": 0,
  "metadata": {
    "colab": {
      "name": "Smarkio - Data Science",
      "provenance": [],
      "collapsed_sections": [
        "otLQhpuz1gXU",
        "IxkwpY--FJeJ",
        "52NCDwrORXHY",
        "38otk1F3T7KD",
        "0W2-tksvXbGV",
        "iSrVXBqoQUIM"
      ],
      "include_colab_link": true
    },
    "kernelspec": {
      "display_name": "Python 3",
      "name": "python3"
    }
  },
  "cells": [
    {
      "cell_type": "markdown",
      "metadata": {
        "id": "view-in-github",
        "colab_type": "text"
      },
      "source": [
        "<a href=\"https://colab.research.google.com/github/Andchh/Smarkio_DS/blob/main/Smarkio_Respostas.ipynb\" target=\"_parent\"><img src=\"https://colab.research.google.com/assets/colab-badge.svg\" alt=\"Open In Colab\"/></a>"
      ]
    },
    {
      "cell_type": "markdown",
      "metadata": {
        "id": "akfc9PDZrfmb"
      },
      "source": [
        "#Baixando o csv com os dados para análise\r\n",
        "também é possível apenas anexar na aba \"arquivos\" ao lado esquerdo."
      ]
    },
    {
      "cell_type": "code",
      "metadata": {
        "id": "lIYdn1woOS1n",
        "colab": {
          "base_uri": "https://localhost:8080/"
        },
        "outputId": "b8f5b9f5-2f73-4f00-e4ce-e8e1f2ca396e"
      },
      "source": [
        "!wget \"https://s3.amazonaws.com/gupy5/production/companies/634/emails/1614302730414/7b0075b0-77d1-11eb-9933-2573999db431/teste_smarkio_lbs.xls\""
      ],
      "execution_count": 1,
      "outputs": [
        {
          "output_type": "stream",
          "text": [
            "--2021-02-26 20:23:05--  https://s3.amazonaws.com/gupy5/production/companies/634/emails/1614302730414/7b0075b0-77d1-11eb-9933-2573999db431/teste_smarkio_lbs.xls\n",
            "Resolving s3.amazonaws.com (s3.amazonaws.com)... 52.216.109.45\n",
            "Connecting to s3.amazonaws.com (s3.amazonaws.com)|52.216.109.45|:443... connected.\n",
            "HTTP request sent, awaiting response... 200 OK\n",
            "Length: 1138176 (1.1M) [application/vnd.ms-excel]\n",
            "Saving to: ‘teste_smarkio_lbs.xls’\n",
            "\n",
            "teste_smarkio_lbs.x 100%[===================>]   1.08M  --.-KB/s    in 0.08s   \n",
            "\n",
            "2021-02-26 20:23:05 (13.6 MB/s) - ‘teste_smarkio_lbs.xls’ saved [1138176/1138176]\n",
            "\n"
          ],
          "name": "stdout"
        }
      ]
    },
    {
      "cell_type": "markdown",
      "metadata": {
        "id": "-kO-B0lRsEZP"
      },
      "source": [
        "#Importando bibliotecas necessárias"
      ]
    },
    {
      "cell_type": "code",
      "metadata": {
        "id": "Y9bufw9vrZfD"
      },
      "source": [
        "import pandas as pd\r\n",
        "#import sweetviz as sv\r\n",
        "import sklearn\r\n",
        "import numpy as np\r\n",
        "import seaborn as sns\r\n",
        "import matplotlib.pyplot as plt"
      ],
      "execution_count": 2,
      "outputs": []
    },
    {
      "cell_type": "code",
      "metadata": {
        "colab": {
          "base_uri": "https://localhost:8080/",
          "height": 204
        },
        "id": "OGzZntr6sIA7",
        "outputId": "b152e61e-fa68-4c5b-cbd8-777e734965e7"
      },
      "source": [
        "#Carregando o arquivo em um dataframe\r\n",
        "df = pd.read_excel(\"/content/teste_smarkio_lbs.xls\")\r\n",
        "df.head()"
      ],
      "execution_count": 3,
      "outputs": [
        {
          "output_type": "execute_result",
          "data": {
            "text/html": [
              "<div>\n",
              "<style scoped>\n",
              "    .dataframe tbody tr th:only-of-type {\n",
              "        vertical-align: middle;\n",
              "    }\n",
              "\n",
              "    .dataframe tbody tr th {\n",
              "        vertical-align: top;\n",
              "    }\n",
              "\n",
              "    .dataframe thead th {\n",
              "        text-align: right;\n",
              "    }\n",
              "</style>\n",
              "<table border=\"1\" class=\"dataframe\">\n",
              "  <thead>\n",
              "    <tr style=\"text-align: right;\">\n",
              "      <th></th>\n",
              "      <th>Pred_class</th>\n",
              "      <th>probabilidade</th>\n",
              "      <th>status</th>\n",
              "      <th>True_class</th>\n",
              "    </tr>\n",
              "  </thead>\n",
              "  <tbody>\n",
              "    <tr>\n",
              "      <th>0</th>\n",
              "      <td>2</td>\n",
              "      <td>0.079892</td>\n",
              "      <td>approved</td>\n",
              "      <td>0.0</td>\n",
              "    </tr>\n",
              "    <tr>\n",
              "      <th>1</th>\n",
              "      <td>2</td>\n",
              "      <td>0.379377</td>\n",
              "      <td>approved</td>\n",
              "      <td>74.0</td>\n",
              "    </tr>\n",
              "    <tr>\n",
              "      <th>2</th>\n",
              "      <td>2</td>\n",
              "      <td>0.379377</td>\n",
              "      <td>approved</td>\n",
              "      <td>74.0</td>\n",
              "    </tr>\n",
              "    <tr>\n",
              "      <th>3</th>\n",
              "      <td>2</td>\n",
              "      <td>0.420930</td>\n",
              "      <td>approved</td>\n",
              "      <td>74.0</td>\n",
              "    </tr>\n",
              "    <tr>\n",
              "      <th>4</th>\n",
              "      <td>2</td>\n",
              "      <td>0.607437</td>\n",
              "      <td>approved</td>\n",
              "      <td>NaN</td>\n",
              "    </tr>\n",
              "  </tbody>\n",
              "</table>\n",
              "</div>"
            ],
            "text/plain": [
              "   Pred_class  probabilidade    status  True_class\n",
              "0           2       0.079892  approved         0.0\n",
              "1           2       0.379377  approved        74.0\n",
              "2           2       0.379377  approved        74.0\n",
              "3           2       0.420930  approved        74.0\n",
              "4           2       0.607437  approved         NaN"
            ]
          },
          "metadata": {
            "tags": []
          },
          "execution_count": 3
        }
      ]
    },
    {
      "cell_type": "markdown",
      "metadata": {
        "id": "dlfJ-BXwuhln"
      },
      "source": [
        "#1 - Análise exploratória dos dados utilizando estatística descritiva e inferencial,considerando uma, duas e/ou mais variáveis;\r\n"
      ]
    },
    {
      "cell_type": "markdown",
      "metadata": {
        "id": "43pY3dNPs2ju"
      },
      "source": [
        "##Tratando e preenchendo os valores nulos"
      ]
    },
    {
      "cell_type": "code",
      "metadata": {
        "colab": {
          "base_uri": "https://localhost:8080/"
        },
        "id": "Z7gKheVgsioh",
        "outputId": "0f606310-9b59-4dfe-b403-86724867562c"
      },
      "source": [
        "#Quantos valores nulos?\r\n",
        "df.isnull().sum()"
      ],
      "execution_count": 4,
      "outputs": [
        {
          "output_type": "execute_result",
          "data": {
            "text/plain": [
              "Pred_class         0\n",
              "probabilidade      0\n",
              "status             0\n",
              "True_class       462\n",
              "dtype: int64"
            ]
          },
          "metadata": {
            "tags": []
          },
          "execution_count": 4
        }
      ]
    },
    {
      "cell_type": "code",
      "metadata": {
        "id": "YCQ0dcHpsmNT"
      },
      "source": [
        "#Se true_class for nulo -> considerar o valor de pred_class.\r\n",
        "#assim, vamos substituir na tabela os valores nulos pelos de pred_class.\r\n",
        "#salva os valores de pred_class na variável pred_valores\r\n",
        "pred_valores = {'True_class': df['Pred_class']}\r\n",
        "#preenche os locais nulos com os valores de pred_class\r\n",
        "df.fillna(value = pred_valores, inplace = True)"
      ],
      "execution_count": 5,
      "outputs": []
    },
    {
      "cell_type": "code",
      "metadata": {
        "colab": {
          "base_uri": "https://localhost:8080/"
        },
        "id": "7wx42dE5tkAD",
        "outputId": "8e67f1b1-1323-4dd3-c2b2-fd00a84b8c1c"
      },
      "source": [
        "#checando se ainda existe nulos\r\n",
        "df.isnull().sum()"
      ],
      "execution_count": 6,
      "outputs": [
        {
          "output_type": "execute_result",
          "data": {
            "text/plain": [
              "Pred_class       0\n",
              "probabilidade    0\n",
              "status           0\n",
              "True_class       0\n",
              "dtype: int64"
            ]
          },
          "metadata": {
            "tags": []
          },
          "execution_count": 6
        }
      ]
    },
    {
      "cell_type": "markdown",
      "metadata": {
        "id": "otLQhpuz1gXU"
      },
      "source": [
        "##Analisando os status"
      ]
    },
    {
      "cell_type": "code",
      "metadata": {
        "colab": {
          "base_uri": "https://localhost:8080/",
          "height": 349
        },
        "id": "umoQRWN2tpII",
        "outputId": "967d3e72-b834-430b-972d-c0413bb50f59"
      },
      "source": [
        "fig = plt.figure(figsize = (6,4))\r\n",
        "plt.title(\"teste\")\r\n",
        "sns.countplot(df['status']);"
      ],
      "execution_count": 7,
      "outputs": [
        {
          "output_type": "stream",
          "text": [
            "/usr/local/lib/python3.7/dist-packages/seaborn/_decorators.py:43: FutureWarning: Pass the following variable as a keyword arg: x. From version 0.12, the only valid positional argument will be `data`, and passing other arguments without an explicit keyword will result in an error or misinterpretation.\n",
            "  FutureWarning\n"
          ],
          "name": "stderr"
        },
        {
          "output_type": "display_data",
          "data": {
            "image/png": "[encoded data removed]",
            "text/plain": [
              "<Figure size 432x288 with 1 Axes>"
            ]
          },
          "metadata": {
            "tags": [],
            "needs_background": "light"
          }
        }
      ]
    },
    {
      "cell_type": "code",
      "metadata": {
        "colab": {
          "base_uri": "https://localhost:8080/"
        },
        "id": "oDzTU0Na1UlX",
        "outputId": "26fded84-6e5d-4198-bcfe-2ea2621ae922"
      },
      "source": [
        "#quantos aprovado ou revisados\r\n",
        "df['status'].value_counts()"
      ],
      "execution_count": 8,
      "outputs": [
        {
          "output_type": "execute_result",
          "data": {
            "text/plain": [
              "approved    600\n",
              "revision     43\n",
              "Name: status, dtype: int64"
            ]
          },
          "metadata": {
            "tags": []
          },
          "execution_count": 8
        }
      ]
    },
    {
      "cell_type": "markdown",
      "metadata": {
        "id": "RBCyK4ZI-o-A"
      },
      "source": [
        "utilizando apenas os dados aprovados pelos cientistas"
      ]
    },
    {
      "cell_type": "code",
      "metadata": {
        "colab": {
          "base_uri": "https://localhost:8080/",
          "height": 419
        },
        "id": "mLHx3i2S1oHT",
        "outputId": "f15252f0-e761-472f-a4d9-5550b31b788d"
      },
      "source": [
        "dados_approved = df[df['status'] == 'approved'].copy()\r\n",
        "dados_approved"
      ],
      "execution_count": 9,
      "outputs": [
        {
          "output_type": "execute_result",
          "data": {
            "text/html": [
              "<div>\n",
              "<style scoped>\n",
              "    .dataframe tbody tr th:only-of-type {\n",
              "        vertical-align: middle;\n",
              "    }\n",
              "\n",
              "    .dataframe tbody tr th {\n",
              "        vertical-align: top;\n",
              "    }\n",
              "\n",
              "    .dataframe thead th {\n",
              "        text-align: right;\n",
              "    }\n",
              "</style>\n",
              "<table border=\"1\" class=\"dataframe\">\n",
              "  <thead>\n",
              "    <tr style=\"text-align: right;\">\n",
              "      <th></th>\n",
              "      <th>Pred_class</th>\n",
              "      <th>probabilidade</th>\n",
              "      <th>status</th>\n",
              "      <th>True_class</th>\n",
              "    </tr>\n",
              "  </thead>\n",
              "  <tbody>\n",
              "    <tr>\n",
              "      <th>0</th>\n",
              "      <td>2</td>\n",
              "      <td>0.079892</td>\n",
              "      <td>approved</td>\n",
              "      <td>0.0</td>\n",
              "    </tr>\n",
              "    <tr>\n",
              "      <th>1</th>\n",
              "      <td>2</td>\n",
              "      <td>0.379377</td>\n",
              "      <td>approved</td>\n",
              "      <td>74.0</td>\n",
              "    </tr>\n",
              "    <tr>\n",
              "      <th>2</th>\n",
              "      <td>2</td>\n",
              "      <td>0.379377</td>\n",
              "      <td>approved</td>\n",
              "      <td>74.0</td>\n",
              "    </tr>\n",
              "    <tr>\n",
              "      <th>3</th>\n",
              "      <td>2</td>\n",
              "      <td>0.420930</td>\n",
              "      <td>approved</td>\n",
              "      <td>74.0</td>\n",
              "    </tr>\n",
              "    <tr>\n",
              "      <th>4</th>\n",
              "      <td>2</td>\n",
              "      <td>0.607437</td>\n",
              "      <td>approved</td>\n",
              "      <td>2.0</td>\n",
              "    </tr>\n",
              "    <tr>\n",
              "      <th>...</th>\n",
              "      <td>...</td>\n",
              "      <td>...</td>\n",
              "      <td>...</td>\n",
              "      <td>...</td>\n",
              "    </tr>\n",
              "    <tr>\n",
              "      <th>595</th>\n",
              "      <td>74</td>\n",
              "      <td>0.432421</td>\n",
              "      <td>approved</td>\n",
              "      <td>74.0</td>\n",
              "    </tr>\n",
              "    <tr>\n",
              "      <th>596</th>\n",
              "      <td>82</td>\n",
              "      <td>0.590576</td>\n",
              "      <td>approved</td>\n",
              "      <td>82.0</td>\n",
              "    </tr>\n",
              "    <tr>\n",
              "      <th>597</th>\n",
              "      <td>92</td>\n",
              "      <td>0.915543</td>\n",
              "      <td>approved</td>\n",
              "      <td>92.0</td>\n",
              "    </tr>\n",
              "    <tr>\n",
              "      <th>598</th>\n",
              "      <td>96</td>\n",
              "      <td>0.334495</td>\n",
              "      <td>approved</td>\n",
              "      <td>96.0</td>\n",
              "    </tr>\n",
              "    <tr>\n",
              "      <th>599</th>\n",
              "      <td>99</td>\n",
              "      <td>0.373226</td>\n",
              "      <td>approved</td>\n",
              "      <td>22.0</td>\n",
              "    </tr>\n",
              "  </tbody>\n",
              "</table>\n",
              "<p>600 rows × 4 columns</p>\n",
              "</div>"
            ],
            "text/plain": [
              "     Pred_class  probabilidade    status  True_class\n",
              "0             2       0.079892  approved         0.0\n",
              "1             2       0.379377  approved        74.0\n",
              "2             2       0.379377  approved        74.0\n",
              "3             2       0.420930  approved        74.0\n",
              "4             2       0.607437  approved         2.0\n",
              "..          ...            ...       ...         ...\n",
              "595          74       0.432421  approved        74.0\n",
              "596          82       0.590576  approved        82.0\n",
              "597          92       0.915543  approved        92.0\n",
              "598          96       0.334495  approved        96.0\n",
              "599          99       0.373226  approved        22.0\n",
              "\n",
              "[600 rows x 4 columns]"
            ]
          },
          "metadata": {
            "tags": []
          },
          "execution_count": 9
        }
      ]
    },
    {
      "cell_type": "markdown",
      "metadata": {
        "id": "IxkwpY--FJeJ"
      },
      "source": [
        "##Analisando true_class\r\n",
        "Aqui vamos testar quais classes mais apareceram, se houve outliers e a distribuição das classes."
      ]
    },
    {
      "cell_type": "code",
      "metadata": {
        "colab": {
          "base_uri": "https://localhost:8080/",
          "height": 747
        },
        "id": "Mm58K1Tt4CYR",
        "outputId": "cefa2fcc-a881-4beb-aede-f51f2a923bc4"
      },
      "source": [
        "fig = plt.figure(figsize = (18, 12))\r\n",
        "plt.title('Status approved')\r\n",
        "sns.countplot(y = dados_approved['True_class'],\r\n",
        "              orient = 'h', \r\n",
        "              order = dados_approved['True_class'].value_counts().index)"
      ],
      "execution_count": 10,
      "outputs": [
        {
          "output_type": "execute_result",
          "data": {
            "text/plain": [
              "<matplotlib.axes._subplots.AxesSubplot at 0x7fb70441c810>"
            ]
          },
          "metadata": {
            "tags": []
          },
          "execution_count": 10
        },
        {
          "output_type": "display_data",
          "data": {
            "image/png": "[encoded data removed]",
            "text/plain": [
              "<Figure size 1296x864 with 1 Axes>"
            ]
          },
          "metadata": {
            "tags": [],
            "needs_background": "light"
          }
        }
      ]
    },
    {
      "cell_type": "code",
      "metadata": {
        "colab": {
          "base_uri": "https://localhost:8080/",
          "height": 313
        },
        "id": "W75pFkXs4ETq",
        "outputId": "d905ffe0-1980-401e-dc56-ac251d8349fa"
      },
      "source": [
        "fig = plt.figure(figsize = (7,4))\r\n",
        "plt.title(\"Histograma true class\")\r\n",
        "sns.histplot(dados_approved['True_class'], kde = True)"
      ],
      "execution_count": 11,
      "outputs": [
        {
          "output_type": "execute_result",
          "data": {
            "text/plain": [
              "<matplotlib.axes._subplots.AxesSubplot at 0x7fb703e9e390>"
            ]
          },
          "metadata": {
            "tags": []
          },
          "execution_count": 11
        },
        {
          "output_type": "display_data",
          "data": {
            "image/png": "[encoded data removed]",
            "text/plain": [
              "<Figure size 504x288 with 1 Axes>"
            ]
          },
          "metadata": {
            "tags": [],
            "needs_background": "light"
          }
        }
      ]
    },
    {
      "cell_type": "markdown",
      "metadata": {
        "id": "z-bSoGnkAR6S"
      },
      "source": [
        "Podemos ver analisando os dois gráficos anteriores que as classes não são uniformemente distribuídas e também são assimétricas. "
      ]
    },
    {
      "cell_type": "markdown",
      "metadata": {
        "id": "AVJttsJ-EooA"
      },
      "source": [
        "Vemos que temos 69 classes aprovadas e 73 diferentes no total"
      ]
    },
    {
      "cell_type": "code",
      "metadata": {
        "colab": {
          "base_uri": "https://localhost:8080/"
        },
        "id": "80QZKus3AKIJ",
        "outputId": "d29f9381-9071-4447-9f92-6a480b269a6d"
      },
      "source": [
        "dados_approved['True_class'].nunique()"
      ],
      "execution_count": 12,
      "outputs": [
        {
          "output_type": "execute_result",
          "data": {
            "text/plain": [
              "69"
            ]
          },
          "metadata": {
            "tags": []
          },
          "execution_count": 12
        }
      ]
    },
    {
      "cell_type": "code",
      "metadata": {
        "colab": {
          "base_uri": "https://localhost:8080/"
        },
        "id": "XxmxWw45EdhZ",
        "outputId": "e32cd4ae-095c-436e-e4b5-909ed8edb735"
      },
      "source": [
        "df['True_class'].nunique()"
      ],
      "execution_count": 13,
      "outputs": [
        {
          "output_type": "execute_result",
          "data": {
            "text/plain": [
              "73"
            ]
          },
          "metadata": {
            "tags": []
          },
          "execution_count": 13
        }
      ]
    },
    {
      "cell_type": "code",
      "metadata": {
        "colab": {
          "base_uri": "https://localhost:8080/",
          "height": 350
        },
        "id": "nBeABHHfEhbK",
        "outputId": "a355792f-b0df-46e5-abf3-078968511e46"
      },
      "source": [
        "fig = plt.figure(figsize= (6,4))\r\n",
        "plt.title('Análise de outliers True_class')\r\n",
        "sns.boxplot(dados_approved['True_class']);"
      ],
      "execution_count": 14,
      "outputs": [
        {
          "output_type": "stream",
          "text": [
            "/usr/local/lib/python3.7/dist-packages/seaborn/_decorators.py:43: FutureWarning: Pass the following variable as a keyword arg: x. From version 0.12, the only valid positional argument will be `data`, and passing other arguments without an explicit keyword will result in an error or misinterpretation.\n",
            "  FutureWarning\n"
          ],
          "name": "stderr"
        },
        {
          "output_type": "display_data",
          "data": {
            "image/png": "[encoded data removed]",
            "text/plain": [
              "<Figure size 432x288 with 1 Axes>"
            ]
          },
          "metadata": {
            "tags": [],
            "needs_background": "light"
          }
        }
      ]
    },
    {
      "cell_type": "markdown",
      "metadata": {
        "id": "52NCDwrORXHY"
      },
      "source": [
        "##Analisando pred_class"
      ]
    },
    {
      "cell_type": "markdown",
      "metadata": {
        "id": "Y_PE9hL_SogQ"
      },
      "source": [
        "**Quantidade de classes?**"
      ]
    },
    {
      "cell_type": "code",
      "metadata": {
        "id": "rCduMmMrE7jo",
        "colab": {
          "base_uri": "https://localhost:8080/"
        },
        "outputId": "8ec87574-fbc0-437a-f634-92c7c3fba074"
      },
      "source": [
        "df['Pred_class'].unique().size"
      ],
      "execution_count": 16,
      "outputs": [
        {
          "output_type": "execute_result",
          "data": {
            "text/plain": [
              "80"
            ]
          },
          "metadata": {
            "tags": []
          },
          "execution_count": 16
        }
      ]
    },
    {
      "cell_type": "markdown",
      "metadata": {
        "id": "QL5oEoZmTRqW"
      },
      "source": [
        "**Quais classes em pred_class teve mais acertos?**\r\n",
        "\r\n",
        "Podemos ver que as classes 3, 2 e 74 foram as mais acertadas."
      ]
    },
    {
      "cell_type": "code",
      "metadata": {
        "colab": {
          "base_uri": "https://localhost:8080/",
          "height": 747
        },
        "id": "c9EuDmZPSnRN",
        "outputId": "4357e245-8efe-41a6-eacf-41a7f0eb95d4"
      },
      "source": [
        "fig = plt.figure(figsize=(18,12))\r\n",
        "sns.countplot(y = df['Pred_class'],\r\n",
        "              orient = 'h',\r\n",
        "              order = df['Pred_class'].value_counts().index)\r\n",
        "plt.title('Porcentagem de pred_class')"
      ],
      "execution_count": 20,
      "outputs": [
        {
          "output_type": "execute_result",
          "data": {
            "text/plain": [
              "Text(0.5, 1.0, 'Porcentagem de pred_class')"
            ]
          },
          "metadata": {
            "tags": []
          },
          "execution_count": 20
        },
        {
          "output_type": "display_data",
          "data": {
            "image/png": "[encoded data removed]",
            "text/plain": [
              "<Figure size 1296x864 with 1 Axes>"
            ]
          },
          "metadata": {
            "tags": [],
            "needs_background": "light"
          }
        }
      ]
    },
    {
      "cell_type": "markdown",
      "metadata": {
        "id": "xYLNGdkvTbiA"
      },
      "source": [
        "**Há outliers em pred_class?**\r\n",
        "\r\n",
        "Sem outliers\r\n"
      ]
    },
    {
      "cell_type": "code",
      "metadata": {
        "colab": {
          "base_uri": "https://localhost:8080/",
          "height": 350
        },
        "id": "pxsYmeNSS9n8",
        "outputId": "fada98d5-0acc-4d96-8169-77fc9e207bb1"
      },
      "source": [
        "fig = plt.figure(figsize= (6,4))\r\n",
        "plt.title('Análise de outliers Pred_class')\r\n",
        "sns.boxplot(dados_approved['Pred_class']);"
      ],
      "execution_count": 21,
      "outputs": [
        {
          "output_type": "stream",
          "text": [
            "/usr/local/lib/python3.7/dist-packages/seaborn/_decorators.py:43: FutureWarning: Pass the following variable as a keyword arg: x. From version 0.12, the only valid positional argument will be `data`, and passing other arguments without an explicit keyword will result in an error or misinterpretation.\n",
            "  FutureWarning\n"
          ],
          "name": "stderr"
        },
        {
          "output_type": "display_data",
          "data": {
            "image/png": "[encoded data removed]",
            "text/plain": [
              "<Figure size 432x288 with 1 Axes>"
            ]
          },
          "metadata": {
            "tags": [],
            "needs_background": "light"
          }
        }
      ]
    },
    {
      "cell_type": "markdown",
      "metadata": {
        "id": "38otk1F3T7KD"
      },
      "source": [
        "#2 - Calcule o desempenho do modelo de classificação utilizando pelo menos três métricas;"
      ]
    },
    {
      "cell_type": "code",
      "metadata": {
        "id": "sh7I8dapVARE"
      },
      "source": [
        "from sklearn.metrics import accuracy_score, confusion_matrix, recall_score, precision_score"
      ],
      "execution_count": 25,
      "outputs": []
    },
    {
      "cell_type": "markdown",
      "metadata": {
        "id": "u5DBqL4fUgWR"
      },
      "source": [
        "**Gerando matriz de confusão para visualizar falsos negativos e positivos, assim como a relação entre classes.**"
      ]
    },
    {
      "cell_type": "code",
      "metadata": {
        "colab": {
          "base_uri": "https://localhost:8080/",
          "height": 732
        },
        "id": "5yDTRWQDTPzc",
        "outputId": "2c1199af-39bf-4d55-f1be-66d14779a9dc"
      },
      "source": [
        "c_matrix = confusion_matrix(df['True_class'],\r\n",
        "                            df['Pred_class'])\r\n",
        "fig = plt.figure(figsize= (18 ,12))\r\n",
        "sns.heatmap(c_matrix, cmap = 'Reds')\r\n",
        "plt.xlabel('Pred_class')\r\n",
        "plt.ylabel('True_class')"
      ],
      "execution_count": 32,
      "outputs": [
        {
          "output_type": "execute_result",
          "data": {
            "text/plain": [
              "Text(141.0, 0.5, 'True_class')"
            ]
          },
          "metadata": {
            "tags": []
          },
          "execution_count": 32
        },
        {
          "output_type": "display_data",
          "data": {
            "image/png": "[encoded data removed]",
            "text/plain": [
              "<Figure size 1296x864 with 2 Axes>"
            ]
          },
          "metadata": {
            "tags": [],
            "needs_background": "light"
          }
        }
      ]
    },
    {
      "cell_type": "markdown",
      "metadata": {
        "id": "GKacb8hAVlFC"
      },
      "source": [
        "Na matriz de confusão é possível notar que existem áreas escuras (de maior incidência) fora da diagonal principal. \r\n",
        "\r\n",
        "Por exemplo o 44 foi confundido por 0 uma quantidade significativa de vezes."
      ]
    },
    {
      "cell_type": "markdown",
      "metadata": {
        "id": "oyiSC5drWAWK"
      },
      "source": [
        "**Obtendo a acurácia**\r\n",
        "\r\n",
        "Aqui mostro a % de acertos"
      ]
    },
    {
      "cell_type": "code",
      "metadata": {
        "colab": {
          "base_uri": "https://localhost:8080/"
        },
        "id": "r81XGrjLU0oe",
        "outputId": "e7ba2ce3-c74e-46c8-ceab-70bc60328337"
      },
      "source": [
        "acc =  accuracy_score(df['True_class'],\r\n",
        "                      df['Pred_class'])\r\n",
        "acc"
      ],
      "execution_count": 33,
      "outputs": [
        {
          "output_type": "execute_result",
          "data": {
            "text/plain": [
              "0.71850699844479"
            ]
          },
          "metadata": {
            "tags": []
          },
          "execution_count": 33
        }
      ]
    },
    {
      "cell_type": "markdown",
      "metadata": {
        "id": "gUxJck_UWSQc"
      },
      "source": [
        "**Obtendo precisão**\r\n",
        "\r\n",
        "Aqui mostro quanto acertou considerando falsos e verdadeiros positivos."
      ]
    },
    {
      "cell_type": "code",
      "metadata": {
        "colab": {
          "base_uri": "https://localhost:8080/"
        },
        "id": "t4_bFZV6WMD3",
        "outputId": "045344ef-6142-453e-e21a-b2b168f7a95e"
      },
      "source": [
        "precision = precision_score(dados_approved['True_class'],\r\n",
        "                            dados_approved['Pred_class'],\r\n",
        "                            average = 'weighted')\r\n",
        "precision"
      ],
      "execution_count": 40,
      "outputs": [
        {
          "output_type": "stream",
          "text": [
            "/usr/local/lib/python3.7/dist-packages/sklearn/metrics/_classification.py:1272: UndefinedMetricWarning: Precision is ill-defined and being set to 0.0 in labels with no predicted samples. Use `zero_division` parameter to control this behavior.\n",
            "  _warn_prf(average, modifier, msg_start, len(result))\n"
          ],
          "name": "stderr"
        },
        {
          "output_type": "execute_result",
          "data": {
            "text/plain": [
              "0.6988175116236557"
            ]
          },
          "metadata": {
            "tags": []
          },
          "execution_count": 40
        }
      ]
    },
    {
      "cell_type": "markdown",
      "metadata": {
        "id": "U-f4nzs1W11l"
      },
      "source": [
        "**Obtendo Recall**\r\n",
        "\r\n",
        "Considerando falsos negativos e verdadeiros positivos"
      ]
    },
    {
      "cell_type": "code",
      "metadata": {
        "colab": {
          "base_uri": "https://localhost:8080/"
        },
        "id": "uOuzauEVWiaG",
        "outputId": "31b4898c-7699-41bd-ebb4-743e219bf8e5"
      },
      "source": [
        "recall = precision_score(dados_approved['True_class'],\r\n",
        "                         dados_approved['Pred_class'],\r\n",
        "                         average = 'weighted')\r\n",
        "recall "
      ],
      "execution_count": 41,
      "outputs": [
        {
          "output_type": "stream",
          "text": [
            "/usr/local/lib/python3.7/dist-packages/sklearn/metrics/_classification.py:1272: UndefinedMetricWarning: Precision is ill-defined and being set to 0.0 in labels with no predicted samples. Use `zero_division` parameter to control this behavior.\n",
            "  _warn_prf(average, modifier, msg_start, len(result))\n"
          ],
          "name": "stderr"
        },
        {
          "output_type": "execute_result",
          "data": {
            "text/plain": [
              "0.6988175116236557"
            ]
          },
          "metadata": {
            "tags": []
          },
          "execution_count": 41
        }
      ]
    },
    {
      "cell_type": "markdown",
      "metadata": {
        "id": "uV0k0S_aIAqv"
      },
      "source": [
        "**Mostrando todas as métricas de todas as classes**"
      ]
    },
    {
      "cell_type": "code",
      "metadata": {
        "colab": {
          "base_uri": "https://localhost:8080/"
        },
        "id": "WLjHpBdHXMYf",
        "outputId": "efb621c2-a04d-42e9-abb4-de9a3a1f0752"
      },
      "source": [
        "from sklearn.metrics import classification_report\r\n",
        "print(classification_report(df.True_class, df.Pred_class))\r\n"
      ],
      "execution_count": 42,
      "outputs": [
        {
          "output_type": "stream",
          "text": [
            "              precision    recall  f1-score   support\n",
            "\n",
            "         0.0       0.00      0.00      0.00        54\n",
            "         2.0       0.77      0.77      0.77        61\n",
            "         3.0       0.79      0.83      0.81        60\n",
            "         4.0       0.78      0.86      0.82        21\n",
            "        11.0       0.44      1.00      0.62         4\n",
            "        12.0       0.83      0.71      0.77         7\n",
            "        15.0       0.67      0.67      0.67         3\n",
            "        17.0       0.86      0.75      0.80         8\n",
            "        19.0       0.40      0.40      0.40         5\n",
            "        21.0       0.00      0.00      0.00         0\n",
            "        22.0       0.67      0.91      0.77        11\n",
            "        24.0       0.71      0.62      0.67        16\n",
            "        25.0       0.83      1.00      0.91        10\n",
            "        26.0       0.33      0.50      0.40         2\n",
            "        28.0       0.50      1.00      0.67         1\n",
            "        29.0       1.00      1.00      1.00         7\n",
            "        30.0       0.60      1.00      0.75         3\n",
            "        31.0       0.00      0.00      0.00         0\n",
            "        32.0       0.25      0.50      0.33         4\n",
            "        33.0       0.00      0.00      0.00         0\n",
            "        36.0       1.00      1.00      1.00         1\n",
            "        39.0       0.67      1.00      0.80         4\n",
            "        40.0       1.00      0.78      0.88         9\n",
            "        43.0       0.50      1.00      0.67         3\n",
            "        46.0       1.00      1.00      1.00         1\n",
            "        48.0       0.50      0.25      0.33         4\n",
            "        49.0       0.00      0.00      0.00         0\n",
            "        50.0       0.00      0.00      0.00         0\n",
            "        52.0       0.30      1.00      0.46         6\n",
            "        54.0       1.00      1.00      1.00         2\n",
            "        55.0       0.82      0.93      0.87        15\n",
            "        56.0       1.00      1.00      1.00         3\n",
            "        58.0       1.00      0.50      0.67         2\n",
            "        59.0       0.25      1.00      0.40         1\n",
            "        60.0       0.81      0.89      0.85        28\n",
            "        62.0       0.75      0.60      0.67         5\n",
            "        63.0       1.00      1.00      1.00         2\n",
            "        64.0       0.00      0.00      0.00         0\n",
            "        65.0       0.33      0.50      0.40         2\n",
            "        66.0       0.00      0.00      0.00         1\n",
            "        68.0       0.67      1.00      0.80         2\n",
            "        69.0       1.00      1.00      1.00         1\n",
            "        70.0       1.00      0.75      0.86         4\n",
            "        73.0       0.50      0.50      0.50         2\n",
            "        74.0       0.95      0.72      0.82        78\n",
            "        76.0       1.00      0.80      0.89        10\n",
            "        77.0       0.77      0.83      0.80        29\n",
            "        78.0       1.00      1.00      1.00         3\n",
            "        79.0       1.00      0.43      0.60         7\n",
            "        81.0       0.60      0.33      0.43         9\n",
            "        82.0       1.00      1.00      1.00         5\n",
            "        84.0       1.00      1.00      1.00         1\n",
            "        85.0       0.43      0.60      0.50        10\n",
            "        86.0       0.33      0.20      0.25         5\n",
            "        87.0       1.00      0.67      0.80         6\n",
            "        88.0       1.00      1.00      1.00         3\n",
            "        90.0       0.67      1.00      0.80         2\n",
            "        92.0       0.20      0.50      0.29         2\n",
            "        93.0       1.00      1.00      1.00         1\n",
            "        94.0       1.00      1.00      1.00         1\n",
            "        95.0       0.00      0.00      0.00         0\n",
            "        96.0       0.90      0.90      0.90        21\n",
            "        98.0       1.00      0.71      0.83         7\n",
            "        99.0       0.57      0.80      0.67        10\n",
            "       100.0       1.00      1.00      1.00         1\n",
            "       102.0       1.00      0.62      0.77         8\n",
            "       103.0       0.67      1.00      0.80         6\n",
            "       104.0       0.25      1.00      0.40         1\n",
            "       105.0       0.00      0.00      0.00         0\n",
            "       106.0       0.25      1.00      0.40         1\n",
            "       107.0       1.00      1.00      1.00         1\n",
            "       108.0       0.69      0.90      0.78        10\n",
            "       109.0       0.00      0.00      0.00         0\n",
            "       110.0       0.69      1.00      0.81        11\n",
            "       111.0       0.33      1.00      0.50         1\n",
            "       112.0       0.50      0.67      0.57         3\n",
            "       113.0       1.00      1.00      1.00         1\n",
            "       114.0       1.00      1.00      1.00         1\n",
            "       115.0       0.80      0.80      0.80         5\n",
            "       116.0       1.00      0.67      0.80         3\n",
            "       117.0       0.00      0.00      0.00         3\n",
            "       118.0       0.40      1.00      0.57         2\n",
            "\n",
            "    accuracy                           0.72       643\n",
            "   macro avg       0.63      0.70      0.64       643\n",
            "weighted avg       0.72      0.72      0.70       643\n",
            "\n"
          ],
          "name": "stdout"
        },
        {
          "output_type": "stream",
          "text": [
            "/usr/local/lib/python3.7/dist-packages/sklearn/metrics/_classification.py:1272: UndefinedMetricWarning: Precision and F-score are ill-defined and being set to 0.0 in labels with no predicted samples. Use `zero_division` parameter to control this behavior.\n",
            "  _warn_prf(average, modifier, msg_start, len(result))\n",
            "/usr/local/lib/python3.7/dist-packages/sklearn/metrics/_classification.py:1272: UndefinedMetricWarning: Recall and F-score are ill-defined and being set to 0.0 in labels with no true samples. Use `zero_division` parameter to control this behavior.\n",
            "  _warn_prf(average, modifier, msg_start, len(result))\n"
          ],
          "name": "stderr"
        }
      ]
    },
    {
      "cell_type": "markdown",
      "metadata": {
        "id": "0W2-tksvXbGV"
      },
      "source": [
        "#3 - Crie um classificador que tenha como output se os dados com status igual a revision estão corretos ou não (Sugestão : Técnica de  cross-validation K-fold);"
      ]
    },
    {
      "cell_type": "code",
      "metadata": {
        "id": "BbbsLMgiIyuV"
      },
      "source": [
        "#separando as variáveis de treinamento\r\n",
        "x_train = dados_approved['Pred_class']\r\n",
        "y_train = dados_approved['True_class']"
      ],
      "execution_count": 43,
      "outputs": []
    },
    {
      "cell_type": "code",
      "metadata": {
        "id": "C8jbGbaZJVGJ"
      },
      "source": [
        "#salvando os dados que contém revision e separando para teste do modelo\r\n",
        "dados_revision = df[df['status'] == 'revision'].copy()\r\n",
        "\r\n",
        "x_test = dados_revision['Pred_class']\r\n",
        "y_test = dados_revision['True_class']"
      ],
      "execution_count": 44,
      "outputs": []
    },
    {
      "cell_type": "markdown",
      "metadata": {
        "id": "s7INBafOJ6is"
      },
      "source": [
        "Transformando em array numpy para correção de dimensão"
      ]
    },
    {
      "cell_type": "code",
      "metadata": {
        "id": "78-y4BN9J8m9"
      },
      "source": [
        "\r\n",
        "x_np_train = np.array(x_train)\r\n",
        "x_np_train = x_np_train.reshape(-1,1)\r\n",
        "\r\n",
        "x_np_test = np.array(x_test)\r\n",
        "x_np_test = x_np_test.reshape(-1,1)\r\n"
      ],
      "execution_count": 55,
      "outputs": []
    },
    {
      "cell_type": "markdown",
      "metadata": {
        "id": "uWb2h7YnKb9M"
      },
      "source": [
        "Agora treinando com random forest"
      ]
    },
    {
      "cell_type": "code",
      "metadata": {
        "colab": {
          "base_uri": "https://localhost:8080/"
        },
        "id": "IP5SGTyIKaEW",
        "outputId": "ef4ff470-0aab-4f50-ae02-502d46e3ea33"
      },
      "source": [
        "from sklearn.ensemble import RandomForestClassifier\r\n",
        "\r\n",
        "r_forest = RandomForestClassifier(random_state = 23)\r\n",
        "\r\n",
        "r_forest.fit(x_np_train, y_train)"
      ],
      "execution_count": 56,
      "outputs": [
        {
          "output_type": "execute_result",
          "data": {
            "text/plain": [
              "RandomForestClassifier(bootstrap=True, ccp_alpha=0.0, class_weight=None,\n",
              "                       criterion='gini', max_depth=None, max_features='auto',\n",
              "                       max_leaf_nodes=None, max_samples=None,\n",
              "                       min_impurity_decrease=0.0, min_impurity_split=None,\n",
              "                       min_samples_leaf=1, min_samples_split=2,\n",
              "                       min_weight_fraction_leaf=0.0, n_estimators=100,\n",
              "                       n_jobs=None, oob_score=False, random_state=23, verbose=0,\n",
              "                       warm_start=False)"
            ]
          },
          "metadata": {
            "tags": []
          },
          "execution_count": 56
        }
      ]
    },
    {
      "cell_type": "markdown",
      "metadata": {
        "id": "r5471LgRLE9P"
      },
      "source": [
        "Testando contra os dados de revision e salvando para visualizar\r\n"
      ]
    },
    {
      "cell_type": "code",
      "metadata": {
        "colab": {
          "base_uri": "https://localhost:8080/"
        },
        "id": "aE-DewBZL9un",
        "outputId": "1076e87c-6df2-4a67-93d8-40a366d107bb"
      },
      "source": [
        "pred = r_forest.predict(x_np_test)\r\n",
        "pred"
      ],
      "execution_count": 57,
      "outputs": [
        {
          "output_type": "execute_result",
          "data": {
            "text/plain": [
              "array([  2.,  24.,  24.,  25.,  25.,  25.,   0.,  55.,  77.,  77.,   0.,\n",
              "       115.,  11.,  24.,  60.,   2.,   3.,   4.,  22.,  24.,  39.,  39.,\n",
              "         0.,  60.,  81.,  96., 112.,   2.,   3.,   3.,   4.,   4.,  12.,\n",
              "        17.,  24.,  74.,   0.,  55.,  60.,  60.,  77.,  85.,  96.])"
            ]
          },
          "metadata": {
            "tags": []
          },
          "execution_count": 57
        }
      ]
    },
    {
      "cell_type": "code",
      "metadata": {
        "id": "EXTlq8TALDxH"
      },
      "source": [
        "df_pred = pd.DataFrame({'True': y_test,\r\n",
        "                        'Pred': pred})\r\n"
      ],
      "execution_count": 58,
      "outputs": []
    },
    {
      "cell_type": "markdown",
      "metadata": {
        "id": "Pa8LxcxKNkrw"
      },
      "source": [
        "Aqui é possível ver que o modelo acertou bastante"
      ]
    },
    {
      "cell_type": "code",
      "metadata": {
        "colab": {
          "base_uri": "https://localhost:8080/",
          "height": 1000
        },
        "id": "iDPwl6AZLKXY",
        "outputId": "aa366201-7f20-4fa0-de05-8365209efe16"
      },
      "source": [
        "df_pred['Match'] = np.where(df_pred['True'] == df_pred['Pred'], 1,0)\r\n",
        "df_pred"
      ],
      "execution_count": 59,
      "outputs": [
        {
          "output_type": "execute_result",
          "data": {
            "text/html": [
              "<div>\n",
              "<style scoped>\n",
              "    .dataframe tbody tr th:only-of-type {\n",
              "        vertical-align: middle;\n",
              "    }\n",
              "\n",
              "    .dataframe tbody tr th {\n",
              "        vertical-align: top;\n",
              "    }\n",
              "\n",
              "    .dataframe thead th {\n",
              "        text-align: right;\n",
              "    }\n",
              "</style>\n",
              "<table border=\"1\" class=\"dataframe\">\n",
              "  <thead>\n",
              "    <tr style=\"text-align: right;\">\n",
              "      <th></th>\n",
              "      <th>True</th>\n",
              "      <th>Pred</th>\n",
              "      <th>Match</th>\n",
              "    </tr>\n",
              "  </thead>\n",
              "  <tbody>\n",
              "    <tr>\n",
              "      <th>600</th>\n",
              "      <td>2.0</td>\n",
              "      <td>2.0</td>\n",
              "      <td>1</td>\n",
              "    </tr>\n",
              "    <tr>\n",
              "      <th>601</th>\n",
              "      <td>24.0</td>\n",
              "      <td>24.0</td>\n",
              "      <td>1</td>\n",
              "    </tr>\n",
              "    <tr>\n",
              "      <th>602</th>\n",
              "      <td>24.0</td>\n",
              "      <td>24.0</td>\n",
              "      <td>1</td>\n",
              "    </tr>\n",
              "    <tr>\n",
              "      <th>603</th>\n",
              "      <td>25.0</td>\n",
              "      <td>25.0</td>\n",
              "      <td>1</td>\n",
              "    </tr>\n",
              "    <tr>\n",
              "      <th>604</th>\n",
              "      <td>25.0</td>\n",
              "      <td>25.0</td>\n",
              "      <td>1</td>\n",
              "    </tr>\n",
              "    <tr>\n",
              "      <th>605</th>\n",
              "      <td>25.0</td>\n",
              "      <td>25.0</td>\n",
              "      <td>1</td>\n",
              "    </tr>\n",
              "    <tr>\n",
              "      <th>606</th>\n",
              "      <td>32.0</td>\n",
              "      <td>0.0</td>\n",
              "      <td>0</td>\n",
              "    </tr>\n",
              "    <tr>\n",
              "      <th>607</th>\n",
              "      <td>55.0</td>\n",
              "      <td>55.0</td>\n",
              "      <td>1</td>\n",
              "    </tr>\n",
              "    <tr>\n",
              "      <th>608</th>\n",
              "      <td>77.0</td>\n",
              "      <td>77.0</td>\n",
              "      <td>1</td>\n",
              "    </tr>\n",
              "    <tr>\n",
              "      <th>609</th>\n",
              "      <td>77.0</td>\n",
              "      <td>77.0</td>\n",
              "      <td>1</td>\n",
              "    </tr>\n",
              "    <tr>\n",
              "      <th>610</th>\n",
              "      <td>86.0</td>\n",
              "      <td>0.0</td>\n",
              "      <td>0</td>\n",
              "    </tr>\n",
              "    <tr>\n",
              "      <th>611</th>\n",
              "      <td>114.0</td>\n",
              "      <td>115.0</td>\n",
              "      <td>0</td>\n",
              "    </tr>\n",
              "    <tr>\n",
              "      <th>612</th>\n",
              "      <td>11.0</td>\n",
              "      <td>11.0</td>\n",
              "      <td>1</td>\n",
              "    </tr>\n",
              "    <tr>\n",
              "      <th>613</th>\n",
              "      <td>24.0</td>\n",
              "      <td>24.0</td>\n",
              "      <td>1</td>\n",
              "    </tr>\n",
              "    <tr>\n",
              "      <th>614</th>\n",
              "      <td>60.0</td>\n",
              "      <td>60.0</td>\n",
              "      <td>1</td>\n",
              "    </tr>\n",
              "    <tr>\n",
              "      <th>615</th>\n",
              "      <td>2.0</td>\n",
              "      <td>2.0</td>\n",
              "      <td>1</td>\n",
              "    </tr>\n",
              "    <tr>\n",
              "      <th>616</th>\n",
              "      <td>3.0</td>\n",
              "      <td>3.0</td>\n",
              "      <td>1</td>\n",
              "    </tr>\n",
              "    <tr>\n",
              "      <th>617</th>\n",
              "      <td>4.0</td>\n",
              "      <td>4.0</td>\n",
              "      <td>1</td>\n",
              "    </tr>\n",
              "    <tr>\n",
              "      <th>618</th>\n",
              "      <td>22.0</td>\n",
              "      <td>22.0</td>\n",
              "      <td>1</td>\n",
              "    </tr>\n",
              "    <tr>\n",
              "      <th>619</th>\n",
              "      <td>24.0</td>\n",
              "      <td>24.0</td>\n",
              "      <td>1</td>\n",
              "    </tr>\n",
              "    <tr>\n",
              "      <th>620</th>\n",
              "      <td>39.0</td>\n",
              "      <td>39.0</td>\n",
              "      <td>1</td>\n",
              "    </tr>\n",
              "    <tr>\n",
              "      <th>621</th>\n",
              "      <td>39.0</td>\n",
              "      <td>39.0</td>\n",
              "      <td>1</td>\n",
              "    </tr>\n",
              "    <tr>\n",
              "      <th>622</th>\n",
              "      <td>43.0</td>\n",
              "      <td>0.0</td>\n",
              "      <td>0</td>\n",
              "    </tr>\n",
              "    <tr>\n",
              "      <th>623</th>\n",
              "      <td>60.0</td>\n",
              "      <td>60.0</td>\n",
              "      <td>1</td>\n",
              "    </tr>\n",
              "    <tr>\n",
              "      <th>624</th>\n",
              "      <td>81.0</td>\n",
              "      <td>81.0</td>\n",
              "      <td>1</td>\n",
              "    </tr>\n",
              "    <tr>\n",
              "      <th>625</th>\n",
              "      <td>96.0</td>\n",
              "      <td>96.0</td>\n",
              "      <td>1</td>\n",
              "    </tr>\n",
              "    <tr>\n",
              "      <th>626</th>\n",
              "      <td>113.0</td>\n",
              "      <td>112.0</td>\n",
              "      <td>0</td>\n",
              "    </tr>\n",
              "    <tr>\n",
              "      <th>627</th>\n",
              "      <td>2.0</td>\n",
              "      <td>2.0</td>\n",
              "      <td>1</td>\n",
              "    </tr>\n",
              "    <tr>\n",
              "      <th>628</th>\n",
              "      <td>3.0</td>\n",
              "      <td>3.0</td>\n",
              "      <td>1</td>\n",
              "    </tr>\n",
              "    <tr>\n",
              "      <th>629</th>\n",
              "      <td>3.0</td>\n",
              "      <td>3.0</td>\n",
              "      <td>1</td>\n",
              "    </tr>\n",
              "    <tr>\n",
              "      <th>630</th>\n",
              "      <td>4.0</td>\n",
              "      <td>4.0</td>\n",
              "      <td>1</td>\n",
              "    </tr>\n",
              "    <tr>\n",
              "      <th>631</th>\n",
              "      <td>4.0</td>\n",
              "      <td>4.0</td>\n",
              "      <td>1</td>\n",
              "    </tr>\n",
              "    <tr>\n",
              "      <th>632</th>\n",
              "      <td>12.0</td>\n",
              "      <td>12.0</td>\n",
              "      <td>1</td>\n",
              "    </tr>\n",
              "    <tr>\n",
              "      <th>633</th>\n",
              "      <td>17.0</td>\n",
              "      <td>17.0</td>\n",
              "      <td>1</td>\n",
              "    </tr>\n",
              "    <tr>\n",
              "      <th>634</th>\n",
              "      <td>24.0</td>\n",
              "      <td>24.0</td>\n",
              "      <td>1</td>\n",
              "    </tr>\n",
              "    <tr>\n",
              "      <th>635</th>\n",
              "      <td>36.0</td>\n",
              "      <td>74.0</td>\n",
              "      <td>0</td>\n",
              "    </tr>\n",
              "    <tr>\n",
              "      <th>636</th>\n",
              "      <td>43.0</td>\n",
              "      <td>0.0</td>\n",
              "      <td>0</td>\n",
              "    </tr>\n",
              "    <tr>\n",
              "      <th>637</th>\n",
              "      <td>55.0</td>\n",
              "      <td>55.0</td>\n",
              "      <td>1</td>\n",
              "    </tr>\n",
              "    <tr>\n",
              "      <th>638</th>\n",
              "      <td>60.0</td>\n",
              "      <td>60.0</td>\n",
              "      <td>1</td>\n",
              "    </tr>\n",
              "    <tr>\n",
              "      <th>639</th>\n",
              "      <td>60.0</td>\n",
              "      <td>60.0</td>\n",
              "      <td>1</td>\n",
              "    </tr>\n",
              "    <tr>\n",
              "      <th>640</th>\n",
              "      <td>77.0</td>\n",
              "      <td>77.0</td>\n",
              "      <td>1</td>\n",
              "    </tr>\n",
              "    <tr>\n",
              "      <th>641</th>\n",
              "      <td>84.0</td>\n",
              "      <td>85.0</td>\n",
              "      <td>0</td>\n",
              "    </tr>\n",
              "    <tr>\n",
              "      <th>642</th>\n",
              "      <td>96.0</td>\n",
              "      <td>96.0</td>\n",
              "      <td>1</td>\n",
              "    </tr>\n",
              "  </tbody>\n",
              "</table>\n",
              "</div>"
            ],
            "text/plain": [
              "      True   Pred  Match\n",
              "600    2.0    2.0      1\n",
              "601   24.0   24.0      1\n",
              "602   24.0   24.0      1\n",
              "603   25.0   25.0      1\n",
              "604   25.0   25.0      1\n",
              "605   25.0   25.0      1\n",
              "606   32.0    0.0      0\n",
              "607   55.0   55.0      1\n",
              "608   77.0   77.0      1\n",
              "609   77.0   77.0      1\n",
              "610   86.0    0.0      0\n",
              "611  114.0  115.0      0\n",
              "612   11.0   11.0      1\n",
              "613   24.0   24.0      1\n",
              "614   60.0   60.0      1\n",
              "615    2.0    2.0      1\n",
              "616    3.0    3.0      1\n",
              "617    4.0    4.0      1\n",
              "618   22.0   22.0      1\n",
              "619   24.0   24.0      1\n",
              "620   39.0   39.0      1\n",
              "621   39.0   39.0      1\n",
              "622   43.0    0.0      0\n",
              "623   60.0   60.0      1\n",
              "624   81.0   81.0      1\n",
              "625   96.0   96.0      1\n",
              "626  113.0  112.0      0\n",
              "627    2.0    2.0      1\n",
              "628    3.0    3.0      1\n",
              "629    3.0    3.0      1\n",
              "630    4.0    4.0      1\n",
              "631    4.0    4.0      1\n",
              "632   12.0   12.0      1\n",
              "633   17.0   17.0      1\n",
              "634   24.0   24.0      1\n",
              "635   36.0   74.0      0\n",
              "636   43.0    0.0      0\n",
              "637   55.0   55.0      1\n",
              "638   60.0   60.0      1\n",
              "639   60.0   60.0      1\n",
              "640   77.0   77.0      1\n",
              "641   84.0   85.0      0\n",
              "642   96.0   96.0      1"
            ]
          },
          "metadata": {
            "tags": []
          },
          "execution_count": 59
        }
      ]
    },
    {
      "cell_type": "markdown",
      "metadata": {
        "id": "R7l3iG0cOXlk"
      },
      "source": [
        "Quantos acertos?"
      ]
    },
    {
      "cell_type": "code",
      "metadata": {
        "colab": {
          "base_uri": "https://localhost:8080/"
        },
        "id": "J_q-DpTnN0n6",
        "outputId": "92e6c1f6-6a57-409d-b51a-610c0809a66a"
      },
      "source": [
        "df_pred['Match'].sum()"
      ],
      "execution_count": 70,
      "outputs": [
        {
          "output_type": "execute_result",
          "data": {
            "text/plain": [
              "35"
            ]
          },
          "metadata": {
            "tags": []
          },
          "execution_count": 70
        }
      ]
    },
    {
      "cell_type": "markdown",
      "metadata": {
        "id": "L0_x0xNDOckI"
      },
      "source": [
        "De quantas possibilidades?"
      ]
    },
    {
      "cell_type": "code",
      "metadata": {
        "colab": {
          "base_uri": "https://localhost:8080/"
        },
        "id": "6vrZza6JOcAX",
        "outputId": "29f23192-2c8e-45eb-dd00-35cd55c1aad7"
      },
      "source": [
        "df_pred.shape[0]"
      ],
      "execution_count": 71,
      "outputs": [
        {
          "output_type": "execute_result",
          "data": {
            "text/plain": [
              "43"
            ]
          },
          "metadata": {
            "tags": []
          },
          "execution_count": 71
        }
      ]
    },
    {
      "cell_type": "markdown",
      "metadata": {
        "id": "dgCmsMMCNq1y"
      },
      "source": [
        "**Assim temos que acertou 35 de 43 ou 81,39%**\r\n",
        "\r\n"
      ]
    },
    {
      "cell_type": "markdown",
      "metadata": {
        "id": "e-xzgikvOu4M"
      },
      "source": [
        "#4 - Compare três métricas de avaliação aplicadas ao modelo e descreva sobre a diferença;"
      ]
    },
    {
      "cell_type": "markdown",
      "metadata": {
        "id": "60BmDmQZPBnz"
      },
      "source": [
        "##Acurácia\r\n",
        "A acurácia é o informa o quanto o modelo acertou. Ela é calculada pela fórmula:\r\n",
        "Acc = Acertos / (Acertos + erros)"
      ]
    },
    {
      "cell_type": "markdown",
      "metadata": {
        "id": "J5K1hdxqPv1h"
      },
      "source": [
        "##Precision\r\n",
        "Ela é a razão entre o quanto foi classificado como positivo corretamente e o total de classificado como positivos. \r\n",
        "\r\n",
        "Precision = Positivos / (Positivos + Falsos Positivos)"
      ]
    },
    {
      "cell_type": "markdown",
      "metadata": {
        "id": "iSrVXBqoQUIM"
      },
      "source": [
        "##Recall\r\n",
        "Inverso da Precision. Nele a ênfase são os falsos negativos. É calculada como:\r\n",
        "\r\n",
        "Recall = Acertos positivos / (Acertos Positivos + Erros negativos)"
      ]
    },
    {
      "cell_type": "code",
      "metadata": {
        "colab": {
          "base_uri": "https://localhost:8080/"
        },
        "id": "OTIJNxLoOp45",
        "outputId": "3531b69e-6ddd-49b0-bf30-96e08e39e3f0"
      },
      "source": [
        "#Comparando as métricas:\r\n",
        "print(classification_report(df.True_class, df.Pred_class))\r\n"
      ],
      "execution_count": 72,
      "outputs": [
        {
          "output_type": "stream",
          "text": [
            "              precision    recall  f1-score   support\n",
            "\n",
            "         0.0       0.00      0.00      0.00        54\n",
            "         2.0       0.77      0.77      0.77        61\n",
            "         3.0       0.79      0.83      0.81        60\n",
            "         4.0       0.78      0.86      0.82        21\n",
            "        11.0       0.44      1.00      0.62         4\n",
            "        12.0       0.83      0.71      0.77         7\n",
            "        15.0       0.67      0.67      0.67         3\n",
            "        17.0       0.86      0.75      0.80         8\n",
            "        19.0       0.40      0.40      0.40         5\n",
            "        21.0       0.00      0.00      0.00         0\n",
            "        22.0       0.67      0.91      0.77        11\n",
            "        24.0       0.71      0.62      0.67        16\n",
            "        25.0       0.83      1.00      0.91        10\n",
            "        26.0       0.33      0.50      0.40         2\n",
            "        28.0       0.50      1.00      0.67         1\n",
            "        29.0       1.00      1.00      1.00         7\n",
            "        30.0       0.60      1.00      0.75         3\n",
            "        31.0       0.00      0.00      0.00         0\n",
            "        32.0       0.25      0.50      0.33         4\n",
            "        33.0       0.00      0.00      0.00         0\n",
            "        36.0       1.00      1.00      1.00         1\n",
            "        39.0       0.67      1.00      0.80         4\n",
            "        40.0       1.00      0.78      0.88         9\n",
            "        43.0       0.50      1.00      0.67         3\n",
            "        46.0       1.00      1.00      1.00         1\n",
            "        48.0       0.50      0.25      0.33         4\n",
            "        49.0       0.00      0.00      0.00         0\n",
            "        50.0       0.00      0.00      0.00         0\n",
            "        52.0       0.30      1.00      0.46         6\n",
            "        54.0       1.00      1.00      1.00         2\n",
            "        55.0       0.82      0.93      0.87        15\n",
            "        56.0       1.00      1.00      1.00         3\n",
            "        58.0       1.00      0.50      0.67         2\n",
            "        59.0       0.25      1.00      0.40         1\n",
            "        60.0       0.81      0.89      0.85        28\n",
            "        62.0       0.75      0.60      0.67         5\n",
            "        63.0       1.00      1.00      1.00         2\n",
            "        64.0       0.00      0.00      0.00         0\n",
            "        65.0       0.33      0.50      0.40         2\n",
            "        66.0       0.00      0.00      0.00         1\n",
            "        68.0       0.67      1.00      0.80         2\n",
            "        69.0       1.00      1.00      1.00         1\n",
            "        70.0       1.00      0.75      0.86         4\n",
            "        73.0       0.50      0.50      0.50         2\n",
            "        74.0       0.95      0.72      0.82        78\n",
            "        76.0       1.00      0.80      0.89        10\n",
            "        77.0       0.77      0.83      0.80        29\n",
            "        78.0       1.00      1.00      1.00         3\n",
            "        79.0       1.00      0.43      0.60         7\n",
            "        81.0       0.60      0.33      0.43         9\n",
            "        82.0       1.00      1.00      1.00         5\n",
            "        84.0       1.00      1.00      1.00         1\n",
            "        85.0       0.43      0.60      0.50        10\n",
            "        86.0       0.33      0.20      0.25         5\n",
            "        87.0       1.00      0.67      0.80         6\n",
            "        88.0       1.00      1.00      1.00         3\n",
            "        90.0       0.67      1.00      0.80         2\n",
            "        92.0       0.20      0.50      0.29         2\n",
            "        93.0       1.00      1.00      1.00         1\n",
            "        94.0       1.00      1.00      1.00         1\n",
            "        95.0       0.00      0.00      0.00         0\n",
            "        96.0       0.90      0.90      0.90        21\n",
            "        98.0       1.00      0.71      0.83         7\n",
            "        99.0       0.57      0.80      0.67        10\n",
            "       100.0       1.00      1.00      1.00         1\n",
            "       102.0       1.00      0.62      0.77         8\n",
            "       103.0       0.67      1.00      0.80         6\n",
            "       104.0       0.25      1.00      0.40         1\n",
            "       105.0       0.00      0.00      0.00         0\n",
            "       106.0       0.25      1.00      0.40         1\n",
            "       107.0       1.00      1.00      1.00         1\n",
            "       108.0       0.69      0.90      0.78        10\n",
            "       109.0       0.00      0.00      0.00         0\n",
            "       110.0       0.69      1.00      0.81        11\n",
            "       111.0       0.33      1.00      0.50         1\n",
            "       112.0       0.50      0.67      0.57         3\n",
            "       113.0       1.00      1.00      1.00         1\n",
            "       114.0       1.00      1.00      1.00         1\n",
            "       115.0       0.80      0.80      0.80         5\n",
            "       116.0       1.00      0.67      0.80         3\n",
            "       117.0       0.00      0.00      0.00         3\n",
            "       118.0       0.40      1.00      0.57         2\n",
            "\n",
            "    accuracy                           0.72       643\n",
            "   macro avg       0.63      0.70      0.64       643\n",
            "weighted avg       0.72      0.72      0.70       643\n",
            "\n"
          ],
          "name": "stdout"
        },
        {
          "output_type": "stream",
          "text": [
            "/usr/local/lib/python3.7/dist-packages/sklearn/metrics/_classification.py:1272: UndefinedMetricWarning: Precision and F-score are ill-defined and being set to 0.0 in labels with no predicted samples. Use `zero_division` parameter to control this behavior.\n",
            "  _warn_prf(average, modifier, msg_start, len(result))\n",
            "/usr/local/lib/python3.7/dist-packages/sklearn/metrics/_classification.py:1272: UndefinedMetricWarning: Recall and F-score are ill-defined and being set to 0.0 in labels with no true samples. Use `zero_division` parameter to control this behavior.\n",
            "  _warn_prf(average, modifier, msg_start, len(result))\n"
          ],
          "name": "stderr"
        }
      ]
    },
    {
      "cell_type": "markdown",
      "metadata": {
        "id": "9IvsZNaERAII"
      },
      "source": [
        "#5 - Crie um classificador, a partir da segunda aba - NLP do arquivo de dados, que permita identificar qual trecho de música corresponde às respectivas artistas listadas"
      ]
    },
    {
      "cell_type": "markdown",
      "metadata": {
        "id": "8kJzKR3RSeLT"
      },
      "source": [
        "Carregando os dados"
      ]
    },
    {
      "cell_type": "code",
      "metadata": {
        "colab": {
          "base_uri": "https://localhost:8080/",
          "height": 204
        },
        "id": "9tHnNi6yRDNW",
        "outputId": "b6675ae1-4c0b-4017-9eea-9a32b818213d"
      },
      "source": [
        "dados_musica = pd.read_excel('/content/teste_smarkio_lbs.xls', 'NLP')\r\n",
        "dados_musica.head()\r\n"
      ],
      "execution_count": 73,
      "outputs": [
        {
          "output_type": "execute_result",
          "data": {
            "text/html": [
              "<div>\n",
              "<style scoped>\n",
              "    .dataframe tbody tr th:only-of-type {\n",
              "        vertical-align: middle;\n",
              "    }\n",
              "\n",
              "    .dataframe tbody tr th {\n",
              "        vertical-align: top;\n",
              "    }\n",
              "\n",
              "    .dataframe thead th {\n",
              "        text-align: right;\n",
              "    }\n",
              "</style>\n",
              "<table border=\"1\" class=\"dataframe\">\n",
              "  <thead>\n",
              "    <tr style=\"text-align: right;\">\n",
              "      <th></th>\n",
              "      <th>letra</th>\n",
              "      <th>artista</th>\n",
              "    </tr>\n",
              "  </thead>\n",
              "  <tbody>\n",
              "    <tr>\n",
              "      <th>0</th>\n",
              "      <td>Jay-z Uh-uh-uh You ready b? Let's go get 'em. ...</td>\n",
              "      <td>Beyoncé</td>\n",
              "    </tr>\n",
              "    <tr>\n",
              "      <th>1</th>\n",
              "      <td>Your challengers are a young group from Housto...</td>\n",
              "      <td>Beyoncé</td>\n",
              "    </tr>\n",
              "    <tr>\n",
              "      <th>2</th>\n",
              "      <td>Dum-da-de-da Do, do, do, do, do, do (Coming do...</td>\n",
              "      <td>Beyoncé</td>\n",
              "    </tr>\n",
              "    <tr>\n",
              "      <th>3</th>\n",
              "      <td>If I ain't got nothing I got you If I ain't go...</td>\n",
              "      <td>Beyoncé</td>\n",
              "    </tr>\n",
              "    <tr>\n",
              "      <th>4</th>\n",
              "      <td>Six inch heels She walked in the club like nob...</td>\n",
              "      <td>Beyoncé</td>\n",
              "    </tr>\n",
              "  </tbody>\n",
              "</table>\n",
              "</div>"
            ],
            "text/plain": [
              "                                               letra  artista\n",
              "0  Jay-z Uh-uh-uh You ready b? Let's go get 'em. ...  Beyoncé\n",
              "1  Your challengers are a young group from Housto...  Beyoncé\n",
              "2  Dum-da-de-da Do, do, do, do, do, do (Coming do...  Beyoncé\n",
              "3  If I ain't got nothing I got you If I ain't go...  Beyoncé\n",
              "4  Six inch heels She walked in the club like nob...  Beyoncé"
            ]
          },
          "metadata": {
            "tags": []
          },
          "execution_count": 73
        }
      ]
    },
    {
      "cell_type": "code",
      "metadata": {
        "colab": {
          "base_uri": "https://localhost:8080/"
        },
        "id": "E1o70j7fScp4",
        "outputId": "923a3476-6ff4-4630-d598-082c7004be6c"
      },
      "source": [
        "#tempos 518 linhas e 2 artistas.\r\n",
        "dados_musica.shape"
      ],
      "execution_count": 75,
      "outputs": [
        {
          "output_type": "execute_result",
          "data": {
            "text/plain": [
              "(518, 2)"
            ]
          },
          "metadata": {
            "tags": []
          },
          "execution_count": 75
        }
      ]
    },
    {
      "cell_type": "markdown",
      "metadata": {
        "id": "4BXVEtT-TQmU"
      },
      "source": [
        "Aqui podemos ver que temos Beyoncé e Rihanna como artistas"
      ]
    },
    {
      "cell_type": "code",
      "metadata": {
        "colab": {
          "base_uri": "https://localhost:8080/",
          "height": 350
        },
        "id": "saj_rjQES8Xv",
        "outputId": "7686ce11-6d30-4a47-972d-241a70e54966"
      },
      "source": [
        "fig = plt.figure(figsize = (7,4))\r\n",
        "plt.title('Artistas')\r\n",
        "sns.countplot(dados_musica['artista']);"
      ],
      "execution_count": 78,
      "outputs": [
        {
          "output_type": "stream",
          "text": [
            "/usr/local/lib/python3.7/dist-packages/seaborn/_decorators.py:43: FutureWarning: Pass the following variable as a keyword arg: x. From version 0.12, the only valid positional argument will be `data`, and passing other arguments without an explicit keyword will result in an error or misinterpretation.\n",
            "  FutureWarning\n"
          ],
          "name": "stderr"
        },
        {
          "output_type": "display_data",
          "data": {
            "image/png": "[encoded data removed]",
            "text/plain": [
              "<Figure size 504x288 with 1 Axes>"
            ]
          },
          "metadata": {
            "tags": [],
            "needs_background": "light"
          }
        }
      ]
    },
    {
      "cell_type": "markdown",
      "metadata": {
        "id": "GofHow_bToaU"
      },
      "source": [
        "Agora vamos separar para o treinamento.\r\n",
        "Nele teremos a letra como feature e o artista como o que deve ser acertado.\r\n",
        "Também será usado naive_bayes"
      ]
    },
    {
      "cell_type": "code",
      "metadata": {
        "id": "ktOeiI7VTNMv"
      },
      "source": [
        "features = dados_musica['letra']\r\n",
        "artistas = dados_musica['artista']\r\n"
      ],
      "execution_count": 79,
      "outputs": []
    },
    {
      "cell_type": "code",
      "metadata": {
        "id": "djD6fyvqlgy-"
      },
      "source": [
        "from sklearn.model_selection import train_test_split\r\n",
        "\r\n",
        "x_train, x_test, y_train, y_test = train_test_split(features, artistas, test_size = 0.1)"
      ],
      "execution_count": 81,
      "outputs": []
    },
    {
      "cell_type": "markdown",
      "metadata": {
        "id": "QvtSBdvfl2G8"
      },
      "source": [
        "utilizando bag of words"
      ]
    },
    {
      "cell_type": "code",
      "metadata": {
        "id": "t4JBAeOFltm4"
      },
      "source": [
        "from sklearn.feature_extraction.text import CountVectorizer\r\n",
        "\r\n",
        "bag = CountVectorizer(stop_words = 'english')\r\n",
        "\r\n",
        "x_train_bag = bag.fit_transform(x_train)\r\n",
        "x_test_bag = bag.transform(x_test)"
      ],
      "execution_count": 82,
      "outputs": []
    },
    {
      "cell_type": "markdown",
      "metadata": {
        "id": "hwAHOQ-bmoBp"
      },
      "source": [
        "usando naive bayes"
      ]
    },
    {
      "cell_type": "code",
      "metadata": {
        "colab": {
          "base_uri": "https://localhost:8080/"
        },
        "id": "KHY89HYzmTzy",
        "outputId": "1996459e-72f3-4141-d729-1ab9bee3b4d1"
      },
      "source": [
        "from sklearn.naive_bayes import MultinomialNB\r\n",
        "\r\n",
        "bayes = MultinomialNB()\r\n",
        "bayes.fit(x_train_bag, y_train)\r\n"
      ],
      "execution_count": 83,
      "outputs": [
        {
          "output_type": "execute_result",
          "data": {
            "text/plain": [
              "MultinomialNB(alpha=1.0, class_prior=None, fit_prior=True)"
            ]
          },
          "metadata": {
            "tags": []
          },
          "execution_count": 83
        }
      ]
    },
    {
      "cell_type": "markdown",
      "metadata": {
        "id": "wGuTuudRmqgl"
      },
      "source": [
        "após treinado, testamos a acurácia."
      ]
    },
    {
      "cell_type": "code",
      "metadata": {
        "colab": {
          "base_uri": "https://localhost:8080/"
        },
        "id": "GjOeJQhNmd75",
        "outputId": "c980d342-619a-4e73-d9e6-d6594d5ac9e3"
      },
      "source": [
        "pred = bayes.predict(x_test_bag)\r\n",
        "np.mean(pred == y_test)"
      ],
      "execution_count": 84,
      "outputs": [
        {
          "output_type": "execute_result",
          "data": {
            "text/plain": [
              "0.7307692307692307"
            ]
          },
          "metadata": {
            "tags": []
          },
          "execution_count": 84
        }
      ]
    },
    {
      "cell_type": "markdown",
      "metadata": {
        "id": "B5lnjRJMm3ke"
      },
      "source": [
        "Com isso obtivemos 73% de acerto.\r\n",
        "\r\n",
        "Daqui é possível fazer um sistema de reconhecimento tendo as letras como input."
      ]
    },
    {
      "cell_type": "code",
      "metadata": {
        "id": "9C4xtOM8m2MJ"
      },
      "source": [
        ""
      ],
      "execution_count": null,
      "outputs": []
    }
  ]
}